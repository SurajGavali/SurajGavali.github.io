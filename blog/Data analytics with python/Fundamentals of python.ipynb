{
 "cells": [
  {
   "cell_type": "code",
   "execution_count": 1,
   "metadata": {},
   "outputs": [],
   "source": [
    "import pandas as pd\n",
    "import numpy as np\n",
    "import matplotlib.pyplot as plt"
   ]
  },
  {
   "cell_type": "code",
   "execution_count": 2,
   "metadata": {},
   "outputs": [],
   "source": [
    "df = pd.read_csv('D:/study/SEM 6/Data analytics with python/datafiles/gapminder-FiveYearData.csv')"
   ]
  },
  {
   "cell_type": "code",
   "execution_count": 3,
   "metadata": {},
   "outputs": [
    {
     "data": {
      "text/html": [
       "<div>\n",
       "<style scoped>\n",
       "    .dataframe tbody tr th:only-of-type {\n",
       "        vertical-align: middle;\n",
       "    }\n",
       "\n",
       "    .dataframe tbody tr th {\n",
       "        vertical-align: top;\n",
       "    }\n",
       "\n",
       "    .dataframe thead th {\n",
       "        text-align: right;\n",
       "    }\n",
       "</style>\n",
       "<table border=\"1\" class=\"dataframe\">\n",
       "  <thead>\n",
       "    <tr style=\"text-align: right;\">\n",
       "      <th></th>\n",
       "      <th>country</th>\n",
       "      <th>year</th>\n",
       "      <th>pop</th>\n",
       "      <th>continent</th>\n",
       "      <th>lifeExp</th>\n",
       "      <th>gdpPercap</th>\n",
       "    </tr>\n",
       "  </thead>\n",
       "  <tbody>\n",
       "    <tr>\n",
       "      <th>0</th>\n",
       "      <td>Afghanistan</td>\n",
       "      <td>1952</td>\n",
       "      <td>8425333.0</td>\n",
       "      <td>Asia</td>\n",
       "      <td>28.801</td>\n",
       "      <td>779.445314</td>\n",
       "    </tr>\n",
       "    <tr>\n",
       "      <th>1</th>\n",
       "      <td>Afghanistan</td>\n",
       "      <td>1957</td>\n",
       "      <td>9240934.0</td>\n",
       "      <td>Asia</td>\n",
       "      <td>30.332</td>\n",
       "      <td>820.853030</td>\n",
       "    </tr>\n",
       "    <tr>\n",
       "      <th>2</th>\n",
       "      <td>Afghanistan</td>\n",
       "      <td>1962</td>\n",
       "      <td>10267083.0</td>\n",
       "      <td>Asia</td>\n",
       "      <td>31.997</td>\n",
       "      <td>853.100710</td>\n",
       "    </tr>\n",
       "    <tr>\n",
       "      <th>3</th>\n",
       "      <td>Afghanistan</td>\n",
       "      <td>1967</td>\n",
       "      <td>11537966.0</td>\n",
       "      <td>Asia</td>\n",
       "      <td>34.020</td>\n",
       "      <td>836.197138</td>\n",
       "    </tr>\n",
       "    <tr>\n",
       "      <th>4</th>\n",
       "      <td>Afghanistan</td>\n",
       "      <td>1972</td>\n",
       "      <td>13079460.0</td>\n",
       "      <td>Asia</td>\n",
       "      <td>36.088</td>\n",
       "      <td>739.981106</td>\n",
       "    </tr>\n",
       "    <tr>\n",
       "      <th>5</th>\n",
       "      <td>Afghanistan</td>\n",
       "      <td>1977</td>\n",
       "      <td>14880372.0</td>\n",
       "      <td>Asia</td>\n",
       "      <td>38.438</td>\n",
       "      <td>786.113360</td>\n",
       "    </tr>\n",
       "    <tr>\n",
       "      <th>6</th>\n",
       "      <td>Afghanistan</td>\n",
       "      <td>1982</td>\n",
       "      <td>12881816.0</td>\n",
       "      <td>Asia</td>\n",
       "      <td>39.854</td>\n",
       "      <td>978.011439</td>\n",
       "    </tr>\n",
       "    <tr>\n",
       "      <th>7</th>\n",
       "      <td>Afghanistan</td>\n",
       "      <td>1987</td>\n",
       "      <td>13867957.0</td>\n",
       "      <td>Asia</td>\n",
       "      <td>40.822</td>\n",
       "      <td>852.395945</td>\n",
       "    </tr>\n",
       "    <tr>\n",
       "      <th>8</th>\n",
       "      <td>Afghanistan</td>\n",
       "      <td>1992</td>\n",
       "      <td>16317921.0</td>\n",
       "      <td>Asia</td>\n",
       "      <td>41.674</td>\n",
       "      <td>649.341395</td>\n",
       "    </tr>\n",
       "    <tr>\n",
       "      <th>9</th>\n",
       "      <td>Afghanistan</td>\n",
       "      <td>1997</td>\n",
       "      <td>22227415.0</td>\n",
       "      <td>Asia</td>\n",
       "      <td>41.763</td>\n",
       "      <td>635.341351</td>\n",
       "    </tr>\n",
       "    <tr>\n",
       "      <th>10</th>\n",
       "      <td>Afghanistan</td>\n",
       "      <td>2002</td>\n",
       "      <td>25268405.0</td>\n",
       "      <td>Asia</td>\n",
       "      <td>42.129</td>\n",
       "      <td>726.734055</td>\n",
       "    </tr>\n",
       "    <tr>\n",
       "      <th>11</th>\n",
       "      <td>Afghanistan</td>\n",
       "      <td>2007</td>\n",
       "      <td>31889923.0</td>\n",
       "      <td>Asia</td>\n",
       "      <td>43.828</td>\n",
       "      <td>974.580338</td>\n",
       "    </tr>\n",
       "    <tr>\n",
       "      <th>12</th>\n",
       "      <td>Albania</td>\n",
       "      <td>1952</td>\n",
       "      <td>1282697.0</td>\n",
       "      <td>Europe</td>\n",
       "      <td>55.230</td>\n",
       "      <td>1601.056136</td>\n",
       "    </tr>\n",
       "    <tr>\n",
       "      <th>13</th>\n",
       "      <td>Albania</td>\n",
       "      <td>1957</td>\n",
       "      <td>1476505.0</td>\n",
       "      <td>Europe</td>\n",
       "      <td>59.280</td>\n",
       "      <td>1942.284244</td>\n",
       "    </tr>\n",
       "    <tr>\n",
       "      <th>14</th>\n",
       "      <td>Albania</td>\n",
       "      <td>1962</td>\n",
       "      <td>1728137.0</td>\n",
       "      <td>Europe</td>\n",
       "      <td>64.820</td>\n",
       "      <td>2312.888958</td>\n",
       "    </tr>\n",
       "    <tr>\n",
       "      <th>15</th>\n",
       "      <td>Albania</td>\n",
       "      <td>1967</td>\n",
       "      <td>1984060.0</td>\n",
       "      <td>Europe</td>\n",
       "      <td>66.220</td>\n",
       "      <td>2760.196931</td>\n",
       "    </tr>\n",
       "    <tr>\n",
       "      <th>16</th>\n",
       "      <td>Albania</td>\n",
       "      <td>1972</td>\n",
       "      <td>2263554.0</td>\n",
       "      <td>Europe</td>\n",
       "      <td>67.690</td>\n",
       "      <td>3313.422188</td>\n",
       "    </tr>\n",
       "    <tr>\n",
       "      <th>17</th>\n",
       "      <td>Albania</td>\n",
       "      <td>1977</td>\n",
       "      <td>2509048.0</td>\n",
       "      <td>Europe</td>\n",
       "      <td>68.930</td>\n",
       "      <td>3533.003910</td>\n",
       "    </tr>\n",
       "    <tr>\n",
       "      <th>18</th>\n",
       "      <td>Albania</td>\n",
       "      <td>1982</td>\n",
       "      <td>2780097.0</td>\n",
       "      <td>Europe</td>\n",
       "      <td>70.420</td>\n",
       "      <td>3630.880722</td>\n",
       "    </tr>\n",
       "    <tr>\n",
       "      <th>19</th>\n",
       "      <td>Albania</td>\n",
       "      <td>1987</td>\n",
       "      <td>3075321.0</td>\n",
       "      <td>Europe</td>\n",
       "      <td>72.000</td>\n",
       "      <td>3738.932735</td>\n",
       "    </tr>\n",
       "    <tr>\n",
       "      <th>20</th>\n",
       "      <td>Albania</td>\n",
       "      <td>1992</td>\n",
       "      <td>3326498.0</td>\n",
       "      <td>Europe</td>\n",
       "      <td>71.581</td>\n",
       "      <td>2497.437901</td>\n",
       "    </tr>\n",
       "    <tr>\n",
       "      <th>21</th>\n",
       "      <td>Albania</td>\n",
       "      <td>1997</td>\n",
       "      <td>3428038.0</td>\n",
       "      <td>Europe</td>\n",
       "      <td>72.950</td>\n",
       "      <td>3193.054604</td>\n",
       "    </tr>\n",
       "    <tr>\n",
       "      <th>22</th>\n",
       "      <td>Albania</td>\n",
       "      <td>2002</td>\n",
       "      <td>3508512.0</td>\n",
       "      <td>Europe</td>\n",
       "      <td>75.651</td>\n",
       "      <td>4604.211737</td>\n",
       "    </tr>\n",
       "    <tr>\n",
       "      <th>23</th>\n",
       "      <td>Albania</td>\n",
       "      <td>2007</td>\n",
       "      <td>3600523.0</td>\n",
       "      <td>Europe</td>\n",
       "      <td>76.423</td>\n",
       "      <td>5937.029526</td>\n",
       "    </tr>\n",
       "    <tr>\n",
       "      <th>24</th>\n",
       "      <td>Algeria</td>\n",
       "      <td>1952</td>\n",
       "      <td>9279525.0</td>\n",
       "      <td>Africa</td>\n",
       "      <td>43.077</td>\n",
       "      <td>2449.008185</td>\n",
       "    </tr>\n",
       "    <tr>\n",
       "      <th>25</th>\n",
       "      <td>Algeria</td>\n",
       "      <td>1957</td>\n",
       "      <td>10270856.0</td>\n",
       "      <td>Africa</td>\n",
       "      <td>45.685</td>\n",
       "      <td>3013.976023</td>\n",
       "    </tr>\n",
       "    <tr>\n",
       "      <th>26</th>\n",
       "      <td>Algeria</td>\n",
       "      <td>1962</td>\n",
       "      <td>11000948.0</td>\n",
       "      <td>Africa</td>\n",
       "      <td>48.303</td>\n",
       "      <td>2550.816880</td>\n",
       "    </tr>\n",
       "    <tr>\n",
       "      <th>27</th>\n",
       "      <td>Algeria</td>\n",
       "      <td>1967</td>\n",
       "      <td>12760499.0</td>\n",
       "      <td>Africa</td>\n",
       "      <td>51.407</td>\n",
       "      <td>3246.991771</td>\n",
       "    </tr>\n",
       "    <tr>\n",
       "      <th>28</th>\n",
       "      <td>Algeria</td>\n",
       "      <td>1972</td>\n",
       "      <td>14760787.0</td>\n",
       "      <td>Africa</td>\n",
       "      <td>54.518</td>\n",
       "      <td>4182.663766</td>\n",
       "    </tr>\n",
       "    <tr>\n",
       "      <th>29</th>\n",
       "      <td>Algeria</td>\n",
       "      <td>1977</td>\n",
       "      <td>17152804.0</td>\n",
       "      <td>Africa</td>\n",
       "      <td>58.014</td>\n",
       "      <td>4910.416756</td>\n",
       "    </tr>\n",
       "    <tr>\n",
       "      <th>...</th>\n",
       "      <td>...</td>\n",
       "      <td>...</td>\n",
       "      <td>...</td>\n",
       "      <td>...</td>\n",
       "      <td>...</td>\n",
       "      <td>...</td>\n",
       "    </tr>\n",
       "    <tr>\n",
       "      <th>1674</th>\n",
       "      <td>Yemen Rep.</td>\n",
       "      <td>1982</td>\n",
       "      <td>9657618.0</td>\n",
       "      <td>Asia</td>\n",
       "      <td>49.113</td>\n",
       "      <td>1977.557010</td>\n",
       "    </tr>\n",
       "    <tr>\n",
       "      <th>1675</th>\n",
       "      <td>Yemen Rep.</td>\n",
       "      <td>1987</td>\n",
       "      <td>11219340.0</td>\n",
       "      <td>Asia</td>\n",
       "      <td>52.922</td>\n",
       "      <td>1971.741538</td>\n",
       "    </tr>\n",
       "    <tr>\n",
       "      <th>1676</th>\n",
       "      <td>Yemen Rep.</td>\n",
       "      <td>1992</td>\n",
       "      <td>13367997.0</td>\n",
       "      <td>Asia</td>\n",
       "      <td>55.599</td>\n",
       "      <td>1879.496673</td>\n",
       "    </tr>\n",
       "    <tr>\n",
       "      <th>1677</th>\n",
       "      <td>Yemen Rep.</td>\n",
       "      <td>1997</td>\n",
       "      <td>15826497.0</td>\n",
       "      <td>Asia</td>\n",
       "      <td>58.020</td>\n",
       "      <td>2117.484526</td>\n",
       "    </tr>\n",
       "    <tr>\n",
       "      <th>1678</th>\n",
       "      <td>Yemen Rep.</td>\n",
       "      <td>2002</td>\n",
       "      <td>18701257.0</td>\n",
       "      <td>Asia</td>\n",
       "      <td>60.308</td>\n",
       "      <td>2234.820827</td>\n",
       "    </tr>\n",
       "    <tr>\n",
       "      <th>1679</th>\n",
       "      <td>Yemen Rep.</td>\n",
       "      <td>2007</td>\n",
       "      <td>22211743.0</td>\n",
       "      <td>Asia</td>\n",
       "      <td>62.698</td>\n",
       "      <td>2280.769906</td>\n",
       "    </tr>\n",
       "    <tr>\n",
       "      <th>1680</th>\n",
       "      <td>Zambia</td>\n",
       "      <td>1952</td>\n",
       "      <td>2672000.0</td>\n",
       "      <td>Africa</td>\n",
       "      <td>42.038</td>\n",
       "      <td>1147.388831</td>\n",
       "    </tr>\n",
       "    <tr>\n",
       "      <th>1681</th>\n",
       "      <td>Zambia</td>\n",
       "      <td>1957</td>\n",
       "      <td>3016000.0</td>\n",
       "      <td>Africa</td>\n",
       "      <td>44.077</td>\n",
       "      <td>1311.956766</td>\n",
       "    </tr>\n",
       "    <tr>\n",
       "      <th>1682</th>\n",
       "      <td>Zambia</td>\n",
       "      <td>1962</td>\n",
       "      <td>3421000.0</td>\n",
       "      <td>Africa</td>\n",
       "      <td>46.023</td>\n",
       "      <td>1452.725766</td>\n",
       "    </tr>\n",
       "    <tr>\n",
       "      <th>1683</th>\n",
       "      <td>Zambia</td>\n",
       "      <td>1967</td>\n",
       "      <td>3900000.0</td>\n",
       "      <td>Africa</td>\n",
       "      <td>47.768</td>\n",
       "      <td>1777.077318</td>\n",
       "    </tr>\n",
       "    <tr>\n",
       "      <th>1684</th>\n",
       "      <td>Zambia</td>\n",
       "      <td>1972</td>\n",
       "      <td>4506497.0</td>\n",
       "      <td>Africa</td>\n",
       "      <td>50.107</td>\n",
       "      <td>1773.498265</td>\n",
       "    </tr>\n",
       "    <tr>\n",
       "      <th>1685</th>\n",
       "      <td>Zambia</td>\n",
       "      <td>1977</td>\n",
       "      <td>5216550.0</td>\n",
       "      <td>Africa</td>\n",
       "      <td>51.386</td>\n",
       "      <td>1588.688299</td>\n",
       "    </tr>\n",
       "    <tr>\n",
       "      <th>1686</th>\n",
       "      <td>Zambia</td>\n",
       "      <td>1982</td>\n",
       "      <td>6100407.0</td>\n",
       "      <td>Africa</td>\n",
       "      <td>51.821</td>\n",
       "      <td>1408.678565</td>\n",
       "    </tr>\n",
       "    <tr>\n",
       "      <th>1687</th>\n",
       "      <td>Zambia</td>\n",
       "      <td>1987</td>\n",
       "      <td>7272406.0</td>\n",
       "      <td>Africa</td>\n",
       "      <td>50.821</td>\n",
       "      <td>1213.315116</td>\n",
       "    </tr>\n",
       "    <tr>\n",
       "      <th>1688</th>\n",
       "      <td>Zambia</td>\n",
       "      <td>1992</td>\n",
       "      <td>8381163.0</td>\n",
       "      <td>Africa</td>\n",
       "      <td>46.100</td>\n",
       "      <td>1210.884633</td>\n",
       "    </tr>\n",
       "    <tr>\n",
       "      <th>1689</th>\n",
       "      <td>Zambia</td>\n",
       "      <td>1997</td>\n",
       "      <td>9417789.0</td>\n",
       "      <td>Africa</td>\n",
       "      <td>40.238</td>\n",
       "      <td>1071.353818</td>\n",
       "    </tr>\n",
       "    <tr>\n",
       "      <th>1690</th>\n",
       "      <td>Zambia</td>\n",
       "      <td>2002</td>\n",
       "      <td>10595811.0</td>\n",
       "      <td>Africa</td>\n",
       "      <td>39.193</td>\n",
       "      <td>1071.613938</td>\n",
       "    </tr>\n",
       "    <tr>\n",
       "      <th>1691</th>\n",
       "      <td>Zambia</td>\n",
       "      <td>2007</td>\n",
       "      <td>11746035.0</td>\n",
       "      <td>Africa</td>\n",
       "      <td>42.384</td>\n",
       "      <td>1271.211593</td>\n",
       "    </tr>\n",
       "    <tr>\n",
       "      <th>1692</th>\n",
       "      <td>Zimbabwe</td>\n",
       "      <td>1952</td>\n",
       "      <td>3080907.0</td>\n",
       "      <td>Africa</td>\n",
       "      <td>48.451</td>\n",
       "      <td>406.884115</td>\n",
       "    </tr>\n",
       "    <tr>\n",
       "      <th>1693</th>\n",
       "      <td>Zimbabwe</td>\n",
       "      <td>1957</td>\n",
       "      <td>3646340.0</td>\n",
       "      <td>Africa</td>\n",
       "      <td>50.469</td>\n",
       "      <td>518.764268</td>\n",
       "    </tr>\n",
       "    <tr>\n",
       "      <th>1694</th>\n",
       "      <td>Zimbabwe</td>\n",
       "      <td>1962</td>\n",
       "      <td>4277736.0</td>\n",
       "      <td>Africa</td>\n",
       "      <td>52.358</td>\n",
       "      <td>527.272182</td>\n",
       "    </tr>\n",
       "    <tr>\n",
       "      <th>1695</th>\n",
       "      <td>Zimbabwe</td>\n",
       "      <td>1967</td>\n",
       "      <td>4995432.0</td>\n",
       "      <td>Africa</td>\n",
       "      <td>53.995</td>\n",
       "      <td>569.795071</td>\n",
       "    </tr>\n",
       "    <tr>\n",
       "      <th>1696</th>\n",
       "      <td>Zimbabwe</td>\n",
       "      <td>1972</td>\n",
       "      <td>5861135.0</td>\n",
       "      <td>Africa</td>\n",
       "      <td>55.635</td>\n",
       "      <td>799.362176</td>\n",
       "    </tr>\n",
       "    <tr>\n",
       "      <th>1697</th>\n",
       "      <td>Zimbabwe</td>\n",
       "      <td>1977</td>\n",
       "      <td>6642107.0</td>\n",
       "      <td>Africa</td>\n",
       "      <td>57.674</td>\n",
       "      <td>685.587682</td>\n",
       "    </tr>\n",
       "    <tr>\n",
       "      <th>1698</th>\n",
       "      <td>Zimbabwe</td>\n",
       "      <td>1982</td>\n",
       "      <td>7636524.0</td>\n",
       "      <td>Africa</td>\n",
       "      <td>60.363</td>\n",
       "      <td>788.855041</td>\n",
       "    </tr>\n",
       "    <tr>\n",
       "      <th>1699</th>\n",
       "      <td>Zimbabwe</td>\n",
       "      <td>1987</td>\n",
       "      <td>9216418.0</td>\n",
       "      <td>Africa</td>\n",
       "      <td>62.351</td>\n",
       "      <td>706.157306</td>\n",
       "    </tr>\n",
       "    <tr>\n",
       "      <th>1700</th>\n",
       "      <td>Zimbabwe</td>\n",
       "      <td>1992</td>\n",
       "      <td>10704340.0</td>\n",
       "      <td>Africa</td>\n",
       "      <td>60.377</td>\n",
       "      <td>693.420786</td>\n",
       "    </tr>\n",
       "    <tr>\n",
       "      <th>1701</th>\n",
       "      <td>Zimbabwe</td>\n",
       "      <td>1997</td>\n",
       "      <td>11404948.0</td>\n",
       "      <td>Africa</td>\n",
       "      <td>46.809</td>\n",
       "      <td>792.449960</td>\n",
       "    </tr>\n",
       "    <tr>\n",
       "      <th>1702</th>\n",
       "      <td>Zimbabwe</td>\n",
       "      <td>2002</td>\n",
       "      <td>11926563.0</td>\n",
       "      <td>Africa</td>\n",
       "      <td>39.989</td>\n",
       "      <td>672.038623</td>\n",
       "    </tr>\n",
       "    <tr>\n",
       "      <th>1703</th>\n",
       "      <td>Zimbabwe</td>\n",
       "      <td>2007</td>\n",
       "      <td>12311143.0</td>\n",
       "      <td>Africa</td>\n",
       "      <td>43.487</td>\n",
       "      <td>469.709298</td>\n",
       "    </tr>\n",
       "  </tbody>\n",
       "</table>\n",
       "<p>1704 rows × 6 columns</p>\n",
       "</div>"
      ],
      "text/plain": [
       "          country  year         pop continent  lifeExp    gdpPercap\n",
       "0     Afghanistan  1952   8425333.0      Asia   28.801   779.445314\n",
       "1     Afghanistan  1957   9240934.0      Asia   30.332   820.853030\n",
       "2     Afghanistan  1962  10267083.0      Asia   31.997   853.100710\n",
       "3     Afghanistan  1967  11537966.0      Asia   34.020   836.197138\n",
       "4     Afghanistan  1972  13079460.0      Asia   36.088   739.981106\n",
       "5     Afghanistan  1977  14880372.0      Asia   38.438   786.113360\n",
       "6     Afghanistan  1982  12881816.0      Asia   39.854   978.011439\n",
       "7     Afghanistan  1987  13867957.0      Asia   40.822   852.395945\n",
       "8     Afghanistan  1992  16317921.0      Asia   41.674   649.341395\n",
       "9     Afghanistan  1997  22227415.0      Asia   41.763   635.341351\n",
       "10    Afghanistan  2002  25268405.0      Asia   42.129   726.734055\n",
       "11    Afghanistan  2007  31889923.0      Asia   43.828   974.580338\n",
       "12        Albania  1952   1282697.0    Europe   55.230  1601.056136\n",
       "13        Albania  1957   1476505.0    Europe   59.280  1942.284244\n",
       "14        Albania  1962   1728137.0    Europe   64.820  2312.888958\n",
       "15        Albania  1967   1984060.0    Europe   66.220  2760.196931\n",
       "16        Albania  1972   2263554.0    Europe   67.690  3313.422188\n",
       "17        Albania  1977   2509048.0    Europe   68.930  3533.003910\n",
       "18        Albania  1982   2780097.0    Europe   70.420  3630.880722\n",
       "19        Albania  1987   3075321.0    Europe   72.000  3738.932735\n",
       "20        Albania  1992   3326498.0    Europe   71.581  2497.437901\n",
       "21        Albania  1997   3428038.0    Europe   72.950  3193.054604\n",
       "22        Albania  2002   3508512.0    Europe   75.651  4604.211737\n",
       "23        Albania  2007   3600523.0    Europe   76.423  5937.029526\n",
       "24        Algeria  1952   9279525.0    Africa   43.077  2449.008185\n",
       "25        Algeria  1957  10270856.0    Africa   45.685  3013.976023\n",
       "26        Algeria  1962  11000948.0    Africa   48.303  2550.816880\n",
       "27        Algeria  1967  12760499.0    Africa   51.407  3246.991771\n",
       "28        Algeria  1972  14760787.0    Africa   54.518  4182.663766\n",
       "29        Algeria  1977  17152804.0    Africa   58.014  4910.416756\n",
       "...           ...   ...         ...       ...      ...          ...\n",
       "1674   Yemen Rep.  1982   9657618.0      Asia   49.113  1977.557010\n",
       "1675   Yemen Rep.  1987  11219340.0      Asia   52.922  1971.741538\n",
       "1676   Yemen Rep.  1992  13367997.0      Asia   55.599  1879.496673\n",
       "1677   Yemen Rep.  1997  15826497.0      Asia   58.020  2117.484526\n",
       "1678   Yemen Rep.  2002  18701257.0      Asia   60.308  2234.820827\n",
       "1679   Yemen Rep.  2007  22211743.0      Asia   62.698  2280.769906\n",
       "1680       Zambia  1952   2672000.0    Africa   42.038  1147.388831\n",
       "1681       Zambia  1957   3016000.0    Africa   44.077  1311.956766\n",
       "1682       Zambia  1962   3421000.0    Africa   46.023  1452.725766\n",
       "1683       Zambia  1967   3900000.0    Africa   47.768  1777.077318\n",
       "1684       Zambia  1972   4506497.0    Africa   50.107  1773.498265\n",
       "1685       Zambia  1977   5216550.0    Africa   51.386  1588.688299\n",
       "1686       Zambia  1982   6100407.0    Africa   51.821  1408.678565\n",
       "1687       Zambia  1987   7272406.0    Africa   50.821  1213.315116\n",
       "1688       Zambia  1992   8381163.0    Africa   46.100  1210.884633\n",
       "1689       Zambia  1997   9417789.0    Africa   40.238  1071.353818\n",
       "1690       Zambia  2002  10595811.0    Africa   39.193  1071.613938\n",
       "1691       Zambia  2007  11746035.0    Africa   42.384  1271.211593\n",
       "1692     Zimbabwe  1952   3080907.0    Africa   48.451   406.884115\n",
       "1693     Zimbabwe  1957   3646340.0    Africa   50.469   518.764268\n",
       "1694     Zimbabwe  1962   4277736.0    Africa   52.358   527.272182\n",
       "1695     Zimbabwe  1967   4995432.0    Africa   53.995   569.795071\n",
       "1696     Zimbabwe  1972   5861135.0    Africa   55.635   799.362176\n",
       "1697     Zimbabwe  1977   6642107.0    Africa   57.674   685.587682\n",
       "1698     Zimbabwe  1982   7636524.0    Africa   60.363   788.855041\n",
       "1699     Zimbabwe  1987   9216418.0    Africa   62.351   706.157306\n",
       "1700     Zimbabwe  1992  10704340.0    Africa   60.377   693.420786\n",
       "1701     Zimbabwe  1997  11404948.0    Africa   46.809   792.449960\n",
       "1702     Zimbabwe  2002  11926563.0    Africa   39.989   672.038623\n",
       "1703     Zimbabwe  2007  12311143.0    Africa   43.487   469.709298\n",
       "\n",
       "[1704 rows x 6 columns]"
      ]
     },
     "execution_count": 3,
     "metadata": {},
     "output_type": "execute_result"
    }
   ],
   "source": [
    "df"
   ]
  },
  {
   "cell_type": "code",
   "execution_count": 4,
   "metadata": {},
   "outputs": [
    {
     "name": "stdout",
     "output_type": "stream",
     "text": [
      "       country  year         pop continent  lifeExp   gdpPercap\n",
      "0  Afghanistan  1952   8425333.0      Asia   28.801  779.445314\n",
      "1  Afghanistan  1957   9240934.0      Asia   30.332  820.853030\n",
      "2  Afghanistan  1962  10267083.0      Asia   31.997  853.100710\n",
      "3  Afghanistan  1967  11537966.0      Asia   34.020  836.197138\n",
      "4  Afghanistan  1972  13079460.0      Asia   36.088  739.981106\n"
     ]
    }
   ],
   "source": [
    "print(df.head())"
   ]
  },
  {
   "cell_type": "markdown",
   "metadata": {},
   "source": [
    "# gives number of columns and rows"
   ]
  },
  {
   "cell_type": "code",
   "execution_count": 5,
   "metadata": {},
   "outputs": [
    {
     "name": "stdout",
     "output_type": "stream",
     "text": [
      "(1704, 6)\n"
     ]
    }
   ],
   "source": [
    "print(df.shape)"
   ]
  },
  {
   "cell_type": "markdown",
   "metadata": {},
   "source": [
    "# gives column names"
   ]
  },
  {
   "cell_type": "code",
   "execution_count": 6,
   "metadata": {},
   "outputs": [
    {
     "name": "stdout",
     "output_type": "stream",
     "text": [
      "Index(['country', 'year', 'pop', 'continent', 'lifeExp', 'gdpPercap'], dtype='object')\n"
     ]
    }
   ],
   "source": [
    "print(df.columns)"
   ]
  },
  {
   "cell_type": "markdown",
   "metadata": {},
   "source": [
    "# gives data types of each column"
   ]
  },
  {
   "cell_type": "code",
   "execution_count": 7,
   "metadata": {},
   "outputs": [
    {
     "name": "stdout",
     "output_type": "stream",
     "text": [
      "country       object\n",
      "year           int64\n",
      "pop          float64\n",
      "continent     object\n",
      "lifeExp      float64\n",
      "gdpPercap    float64\n",
      "dtype: object\n"
     ]
    }
   ],
   "source": [
    "print(df.dtypes)"
   ]
  },
  {
   "cell_type": "markdown",
   "metadata": {},
   "source": [
    "# get more info about data"
   ]
  },
  {
   "cell_type": "code",
   "execution_count": 8,
   "metadata": {},
   "outputs": [
    {
     "name": "stdout",
     "output_type": "stream",
     "text": [
      "<bound method DataFrame.info of           country  year         pop continent  lifeExp    gdpPercap\n",
      "0     Afghanistan  1952   8425333.0      Asia   28.801   779.445314\n",
      "1     Afghanistan  1957   9240934.0      Asia   30.332   820.853030\n",
      "2     Afghanistan  1962  10267083.0      Asia   31.997   853.100710\n",
      "3     Afghanistan  1967  11537966.0      Asia   34.020   836.197138\n",
      "4     Afghanistan  1972  13079460.0      Asia   36.088   739.981106\n",
      "5     Afghanistan  1977  14880372.0      Asia   38.438   786.113360\n",
      "6     Afghanistan  1982  12881816.0      Asia   39.854   978.011439\n",
      "7     Afghanistan  1987  13867957.0      Asia   40.822   852.395945\n",
      "8     Afghanistan  1992  16317921.0      Asia   41.674   649.341395\n",
      "9     Afghanistan  1997  22227415.0      Asia   41.763   635.341351\n",
      "10    Afghanistan  2002  25268405.0      Asia   42.129   726.734055\n",
      "11    Afghanistan  2007  31889923.0      Asia   43.828   974.580338\n",
      "12        Albania  1952   1282697.0    Europe   55.230  1601.056136\n",
      "13        Albania  1957   1476505.0    Europe   59.280  1942.284244\n",
      "14        Albania  1962   1728137.0    Europe   64.820  2312.888958\n",
      "15        Albania  1967   1984060.0    Europe   66.220  2760.196931\n",
      "16        Albania  1972   2263554.0    Europe   67.690  3313.422188\n",
      "17        Albania  1977   2509048.0    Europe   68.930  3533.003910\n",
      "18        Albania  1982   2780097.0    Europe   70.420  3630.880722\n",
      "19        Albania  1987   3075321.0    Europe   72.000  3738.932735\n",
      "20        Albania  1992   3326498.0    Europe   71.581  2497.437901\n",
      "21        Albania  1997   3428038.0    Europe   72.950  3193.054604\n",
      "22        Albania  2002   3508512.0    Europe   75.651  4604.211737\n",
      "23        Albania  2007   3600523.0    Europe   76.423  5937.029526\n",
      "24        Algeria  1952   9279525.0    Africa   43.077  2449.008185\n",
      "25        Algeria  1957  10270856.0    Africa   45.685  3013.976023\n",
      "26        Algeria  1962  11000948.0    Africa   48.303  2550.816880\n",
      "27        Algeria  1967  12760499.0    Africa   51.407  3246.991771\n",
      "28        Algeria  1972  14760787.0    Africa   54.518  4182.663766\n",
      "29        Algeria  1977  17152804.0    Africa   58.014  4910.416756\n",
      "...           ...   ...         ...       ...      ...          ...\n",
      "1674   Yemen Rep.  1982   9657618.0      Asia   49.113  1977.557010\n",
      "1675   Yemen Rep.  1987  11219340.0      Asia   52.922  1971.741538\n",
      "1676   Yemen Rep.  1992  13367997.0      Asia   55.599  1879.496673\n",
      "1677   Yemen Rep.  1997  15826497.0      Asia   58.020  2117.484526\n",
      "1678   Yemen Rep.  2002  18701257.0      Asia   60.308  2234.820827\n",
      "1679   Yemen Rep.  2007  22211743.0      Asia   62.698  2280.769906\n",
      "1680       Zambia  1952   2672000.0    Africa   42.038  1147.388831\n",
      "1681       Zambia  1957   3016000.0    Africa   44.077  1311.956766\n",
      "1682       Zambia  1962   3421000.0    Africa   46.023  1452.725766\n",
      "1683       Zambia  1967   3900000.0    Africa   47.768  1777.077318\n",
      "1684       Zambia  1972   4506497.0    Africa   50.107  1773.498265\n",
      "1685       Zambia  1977   5216550.0    Africa   51.386  1588.688299\n",
      "1686       Zambia  1982   6100407.0    Africa   51.821  1408.678565\n",
      "1687       Zambia  1987   7272406.0    Africa   50.821  1213.315116\n",
      "1688       Zambia  1992   8381163.0    Africa   46.100  1210.884633\n",
      "1689       Zambia  1997   9417789.0    Africa   40.238  1071.353818\n",
      "1690       Zambia  2002  10595811.0    Africa   39.193  1071.613938\n",
      "1691       Zambia  2007  11746035.0    Africa   42.384  1271.211593\n",
      "1692     Zimbabwe  1952   3080907.0    Africa   48.451   406.884115\n",
      "1693     Zimbabwe  1957   3646340.0    Africa   50.469   518.764268\n",
      "1694     Zimbabwe  1962   4277736.0    Africa   52.358   527.272182\n",
      "1695     Zimbabwe  1967   4995432.0    Africa   53.995   569.795071\n",
      "1696     Zimbabwe  1972   5861135.0    Africa   55.635   799.362176\n",
      "1697     Zimbabwe  1977   6642107.0    Africa   57.674   685.587682\n",
      "1698     Zimbabwe  1982   7636524.0    Africa   60.363   788.855041\n",
      "1699     Zimbabwe  1987   9216418.0    Africa   62.351   706.157306\n",
      "1700     Zimbabwe  1992  10704340.0    Africa   60.377   693.420786\n",
      "1701     Zimbabwe  1997  11404948.0    Africa   46.809   792.449960\n",
      "1702     Zimbabwe  2002  11926563.0    Africa   39.989   672.038623\n",
      "1703     Zimbabwe  2007  12311143.0    Africa   43.487   469.709298\n",
      "\n",
      "[1704 rows x 6 columns]>\n"
     ]
    }
   ],
   "source": [
    "print(df.info)"
   ]
  },
  {
   "cell_type": "markdown",
   "metadata": {},
   "source": [
    "# get the Variable_name column and save it to its own variable"
   ]
  },
  {
   "cell_type": "code",
   "execution_count": 12,
   "metadata": {},
   "outputs": [],
   "source": [
    "Variable_name_df = df['year']"
   ]
  },
  {
   "cell_type": "markdown",
   "metadata": {},
   "source": [
    "# show the first 5 observations"
   ]
  },
  {
   "cell_type": "code",
   "execution_count": 13,
   "metadata": {},
   "outputs": [
    {
     "name": "stdout",
     "output_type": "stream",
     "text": [
      "0    1952\n",
      "1    1957\n",
      "2    1962\n",
      "3    1967\n",
      "4    1972\n",
      "Name: year, dtype: int64\n"
     ]
    }
   ],
   "source": [
    "print(Variable_name_df.head())"
   ]
  },
  {
   "cell_type": "markdown",
   "metadata": {},
   "source": [
    "# show the last 5 observations"
   ]
  },
  {
   "cell_type": "code",
   "execution_count": 14,
   "metadata": {},
   "outputs": [
    {
     "name": "stdout",
     "output_type": "stream",
     "text": [
      "1699    1987\n",
      "1700    1992\n",
      "1701    1997\n",
      "1702    2002\n",
      "1703    2007\n",
      "Name: year, dtype: int64\n"
     ]
    }
   ],
   "source": [
    "print(Variable_name_df.tail())"
   ]
  },
  {
   "cell_type": "markdown",
   "metadata": {},
   "source": [
    "# Looking at Variable_code, Variable_name, and Variable_category"
   ]
  },
  {
   "cell_type": "code",
   "execution_count": 15,
   "metadata": {},
   "outputs": [],
   "source": [
    "subset = df[['country','continent','lifeExp']]"
   ]
  },
  {
   "cell_type": "code",
   "execution_count": 16,
   "metadata": {},
   "outputs": [
    {
     "name": "stdout",
     "output_type": "stream",
     "text": [
      "       country continent  lifeExp\n",
      "0  Afghanistan      Asia   28.801\n",
      "1  Afghanistan      Asia   30.332\n",
      "2  Afghanistan      Asia   31.997\n",
      "3  Afghanistan      Asia   34.020\n",
      "4  Afghanistan      Asia   36.088\n"
     ]
    }
   ],
   "source": [
    "print(subset.head())"
   ]
  },
  {
   "cell_type": "code",
   "execution_count": 17,
   "metadata": {},
   "outputs": [
    {
     "name": "stdout",
     "output_type": "stream",
     "text": [
      "       country continent  lifeExp\n",
      "1699  Zimbabwe    Africa   62.351\n",
      "1700  Zimbabwe    Africa   60.377\n",
      "1701  Zimbabwe    Africa   46.809\n",
      "1702  Zimbabwe    Africa   39.989\n",
      "1703  Zimbabwe    Africa   43.487\n"
     ]
    }
   ],
   "source": [
    "print(subset.tail())"
   ]
  },
  {
   "cell_type": "markdown",
   "metadata": {},
   "source": [
    "# get the first row"
   ]
  },
  {
   "cell_type": "code",
   "execution_count": 18,
   "metadata": {},
   "outputs": [
    {
     "name": "stdout",
     "output_type": "stream",
     "text": [
      "country      Afghanistan\n",
      "year                1952\n",
      "pop          8.42533e+06\n",
      "continent           Asia\n",
      "lifeExp           28.801\n",
      "gdpPercap        779.445\n",
      "Name: 0, dtype: object\n"
     ]
    }
   ],
   "source": [
    "print(df.loc[0])"
   ]
  },
  {
   "cell_type": "markdown",
   "metadata": {},
   "source": [
    "# get the last row"
   ]
  },
  {
   "cell_type": "code",
   "execution_count": 19,
   "metadata": {},
   "outputs": [
    {
     "name": "stdout",
     "output_type": "stream",
     "text": [
      "       country  year         pop continent  lifeExp   gdpPercap\n",
      "1703  Zimbabwe  2007  12311143.0    Africa   43.487  469.709298\n"
     ]
    }
   ],
   "source": [
    "print(df.tail(n=1))"
   ]
  },
  {
   "cell_type": "markdown",
   "metadata": {},
   "source": [
    "# select the first, 100th, and 1000th rows"
   ]
  },
  {
   "cell_type": "markdown",
   "metadata": {},
   "source": [
    "## Subsetting Multiple Rows"
   ]
  },
  {
   "cell_type": "code",
   "execution_count": 20,
   "metadata": {},
   "outputs": [
    {
     "name": "stdout",
     "output_type": "stream",
     "text": [
      "         country  year         pop continent  lifeExp    gdpPercap\n",
      "0    Afghanistan  1952   8425333.0      Asia   28.801   779.445314\n",
      "99    Bangladesh  1967  62821884.0      Asia   43.453   721.186086\n",
      "999     Mongolia  1967   1149500.0      Asia   51.253  1226.041130\n"
     ]
    }
   ],
   "source": [
    "print(df.loc[[0,99,999]])"
   ]
  },
  {
   "cell_type": "markdown",
   "metadata": {},
   "source": [
    "# Subset Rows by Row Number: iloc"
   ]
  },
  {
   "cell_type": "markdown",
   "metadata": {},
   "source": [
    "## get the 2nd row"
   ]
  },
  {
   "cell_type": "code",
   "execution_count": 21,
   "metadata": {
    "scrolled": true
   },
   "outputs": [
    {
     "name": "stdout",
     "output_type": "stream",
     "text": [
      "country      Afghanistan\n",
      "year                1957\n",
      "pop          9.24093e+06\n",
      "continent           Asia\n",
      "lifeExp           30.332\n",
      "gdpPercap        820.853\n",
      "Name: 1, dtype: object\n"
     ]
    }
   ],
   "source": [
    "print(df.iloc[1])"
   ]
  },
  {
   "cell_type": "markdown",
   "metadata": {},
   "source": [
    "## get the 100th row"
   ]
  },
  {
   "cell_type": "code",
   "execution_count": 22,
   "metadata": {
    "scrolled": true
   },
   "outputs": [
    {
     "name": "stdout",
     "output_type": "stream",
     "text": [
      "country       Bangladesh\n",
      "year                1967\n",
      "pop          6.28219e+07\n",
      "continent           Asia\n",
      "lifeExp           43.453\n",
      "gdpPercap        721.186\n",
      "Name: 99, dtype: object\n"
     ]
    }
   ],
   "source": [
    "print(df.iloc[99])"
   ]
  },
  {
   "cell_type": "markdown",
   "metadata": {},
   "source": [
    "## using -1 to get the last row"
   ]
  },
  {
   "cell_type": "code",
   "execution_count": 23,
   "metadata": {},
   "outputs": [
    {
     "name": "stdout",
     "output_type": "stream",
     "text": [
      "country         Zimbabwe\n",
      "year                2007\n",
      "pop          1.23111e+07\n",
      "continent         Africa\n",
      "lifeExp           43.487\n",
      "gdpPercap        469.709\n",
      "Name: 1703, dtype: object\n"
     ]
    }
   ],
   "source": [
    "print(df.iloc[-1])"
   ]
  },
  {
   "cell_type": "markdown",
   "metadata": {},
   "source": [
    "## get the first, 100th, and 1000th rows"
   ]
  },
  {
   "cell_type": "code",
   "execution_count": 24,
   "metadata": {},
   "outputs": [
    {
     "name": "stdout",
     "output_type": "stream",
     "text": [
      "         country  year         pop continent  lifeExp    gdpPercap\n",
      "0    Afghanistan  1952   8425333.0      Asia   28.801   779.445314\n",
      "99    Bangladesh  1967  62821884.0      Asia   43.453   721.186086\n",
      "999     Mongolia  1967   1149500.0      Asia   51.253  1226.041130\n"
     ]
    }
   ],
   "source": [
    "print(df.iloc[[0,99,999]])"
   ]
  },
  {
   "cell_type": "markdown",
   "metadata": {},
   "source": [
    "# subset columns with loc"
   ]
  },
  {
   "cell_type": "code",
   "execution_count": 27,
   "metadata": {},
   "outputs": [],
   "source": [
    "subsetcol = df.loc[:,['country','lifeExp']]"
   ]
  },
  {
   "cell_type": "code",
   "execution_count": 28,
   "metadata": {},
   "outputs": [
    {
     "name": "stdout",
     "output_type": "stream",
     "text": [
      "          country  lifeExp\n",
      "0     Afghanistan   28.801\n",
      "1     Afghanistan   30.332\n",
      "2     Afghanistan   31.997\n",
      "3     Afghanistan   34.020\n",
      "4     Afghanistan   36.088\n",
      "5     Afghanistan   38.438\n",
      "6     Afghanistan   39.854\n",
      "7     Afghanistan   40.822\n",
      "8     Afghanistan   41.674\n",
      "9     Afghanistan   41.763\n",
      "10    Afghanistan   42.129\n",
      "11    Afghanistan   43.828\n",
      "12        Albania   55.230\n",
      "13        Albania   59.280\n",
      "14        Albania   64.820\n",
      "15        Albania   66.220\n",
      "16        Albania   67.690\n",
      "17        Albania   68.930\n",
      "18        Albania   70.420\n",
      "19        Albania   72.000\n",
      "20        Albania   71.581\n",
      "21        Albania   72.950\n",
      "22        Albania   75.651\n",
      "23        Albania   76.423\n",
      "24        Algeria   43.077\n",
      "25        Algeria   45.685\n",
      "26        Algeria   48.303\n",
      "27        Algeria   51.407\n",
      "28        Algeria   54.518\n",
      "29        Algeria   58.014\n",
      "...           ...      ...\n",
      "1674   Yemen Rep.   49.113\n",
      "1675   Yemen Rep.   52.922\n",
      "1676   Yemen Rep.   55.599\n",
      "1677   Yemen Rep.   58.020\n",
      "1678   Yemen Rep.   60.308\n",
      "1679   Yemen Rep.   62.698\n",
      "1680       Zambia   42.038\n",
      "1681       Zambia   44.077\n",
      "1682       Zambia   46.023\n",
      "1683       Zambia   47.768\n",
      "1684       Zambia   50.107\n",
      "1685       Zambia   51.386\n",
      "1686       Zambia   51.821\n",
      "1687       Zambia   50.821\n",
      "1688       Zambia   46.100\n",
      "1689       Zambia   40.238\n",
      "1690       Zambia   39.193\n",
      "1691       Zambia   42.384\n",
      "1692     Zimbabwe   48.451\n",
      "1693     Zimbabwe   50.469\n",
      "1694     Zimbabwe   52.358\n",
      "1695     Zimbabwe   53.995\n",
      "1696     Zimbabwe   55.635\n",
      "1697     Zimbabwe   57.674\n",
      "1698     Zimbabwe   60.363\n",
      "1699     Zimbabwe   62.351\n",
      "1700     Zimbabwe   60.377\n",
      "1701     Zimbabwe   46.809\n",
      "1702     Zimbabwe   39.989\n",
      "1703     Zimbabwe   43.487\n",
      "\n",
      "[1704 rows x 2 columns]\n"
     ]
    }
   ],
   "source": [
    "print(subsetcol)"
   ]
  },
  {
   "cell_type": "markdown",
   "metadata": {},
   "source": [
    "# subset columns with iloc, iloc will alow us to use integers and -1 will select the last column"
   ]
  },
  {
   "cell_type": "code",
   "execution_count": 29,
   "metadata": {},
   "outputs": [],
   "source": [
    "subsetcol = df.iloc[:,[4,5,-1]]"
   ]
  },
  {
   "cell_type": "code",
   "execution_count": 30,
   "metadata": {},
   "outputs": [
    {
     "name": "stdout",
     "output_type": "stream",
     "text": [
      "       country continent  lifeExp\n",
      "0  Afghanistan      Asia   28.801\n",
      "1  Afghanistan      Asia   30.332\n",
      "2  Afghanistan      Asia   31.997\n",
      "3  Afghanistan      Asia   34.020\n",
      "4  Afghanistan      Asia   36.088\n"
     ]
    }
   ],
   "source": [
    "print(subset.head())"
   ]
  },
  {
   "cell_type": "markdown",
   "metadata": {},
   "source": [
    "# Subsetting Columns by Range"
   ]
  },
  {
   "cell_type": "markdown",
   "metadata": {},
   "source": [
    "## create a range of integers from 0 to 4 inclusive"
   ]
  },
  {
   "cell_type": "code",
   "execution_count": 31,
   "metadata": {},
   "outputs": [
    {
     "name": "stdout",
     "output_type": "stream",
     "text": [
      "[0, 1, 2, 3, 4]\n"
     ]
    }
   ],
   "source": [
    "small_range = list(range(5))\n",
    "print(small_range)"
   ]
  },
  {
   "cell_type": "markdown",
   "metadata": {},
   "source": [
    "##  subset the dataframe with the range"
   ]
  },
  {
   "cell_type": "code",
   "execution_count": 32,
   "metadata": {},
   "outputs": [],
   "source": [
    "subsetcol = df.iloc[:,small_range]"
   ]
  },
  {
   "cell_type": "code",
   "execution_count": 33,
   "metadata": {},
   "outputs": [
    {
     "name": "stdout",
     "output_type": "stream",
     "text": [
      "       country  year         pop continent  lifeExp\n",
      "0  Afghanistan  1952   8425333.0      Asia   28.801\n",
      "1  Afghanistan  1957   9240934.0      Asia   30.332\n",
      "2  Afghanistan  1962  10267083.0      Asia   31.997\n",
      "3  Afghanistan  1967  11537966.0      Asia   34.020\n",
      "4  Afghanistan  1972  13079460.0      Asia   36.088\n"
     ]
    }
   ],
   "source": [
    "print(subsetcol.head())"
   ]
  },
  {
   "cell_type": "markdown",
   "metadata": {},
   "source": [
    "# Subsetting Rows and Columns"
   ]
  },
  {
   "cell_type": "markdown",
   "metadata": {},
   "source": [
    "## using loc"
   ]
  },
  {
   "cell_type": "code",
   "execution_count": 35,
   "metadata": {},
   "outputs": [
    {
     "name": "stdout",
     "output_type": "stream",
     "text": [
      "Albania\n"
     ]
    }
   ],
   "source": [
    "print(df.loc[21,'country'])"
   ]
  },
  {
   "cell_type": "markdown",
   "metadata": {},
   "source": [
    "## using iloc"
   ]
  },
  {
   "cell_type": "code",
   "execution_count": 36,
   "metadata": {},
   "outputs": [
    {
     "name": "stdout",
     "output_type": "stream",
     "text": [
      "3193.054604\n"
     ]
    }
   ],
   "source": [
    "print(df.iloc[21,5])"
   ]
  },
  {
   "cell_type": "markdown",
   "metadata": {},
   "source": [
    "# Subsetting Multiple Rows and Columns"
   ]
  },
  {
   "cell_type": "markdown",
   "metadata": {},
   "source": [
    "## get the 1st, 100th, and 1000th rows\n",
    "## from the 1st, 4th, and 6th columns"
   ]
  },
  {
   "cell_type": "code",
   "execution_count": 37,
   "metadata": {},
   "outputs": [
    {
     "name": "stdout",
     "output_type": "stream",
     "text": [
      "         country continent    gdpPercap\n",
      "0    Afghanistan      Asia   779.445314\n",
      "99    Bangladesh      Asia   721.186086\n",
      "999     Mongolia      Asia  1226.041130\n"
     ]
    }
   ],
   "source": [
    "print(df.iloc[[0,99,999],[0,3,5]])"
   ]
  },
  {
   "cell_type": "markdown",
   "metadata": {},
   "source": [
    "### if we use the column names directly,\n",
    "### it makes the code a bit easier to read\n",
    "### note now we have to use loc, instead of iloc"
   ]
  },
  {
   "cell_type": "code",
   "execution_count": 39,
   "metadata": {},
   "outputs": [
    {
     "name": "stdout",
     "output_type": "stream",
     "text": [
      "         country continent    gdpPercap\n",
      "0    Afghanistan      Asia   779.445314\n",
      "99    Bangladesh      Asia   721.186086\n",
      "999     Mongolia      Asia  1226.041130\n"
     ]
    }
   ],
   "source": [
    "print(df.loc[[0,99,999],['country','continent','gdpPercap']])"
   ]
  },
  {
   "cell_type": "code",
   "execution_count": 40,
   "metadata": {},
   "outputs": [
    {
     "name": "stdout",
     "output_type": "stream",
     "text": [
      "        country continent    gdpPercap\n",
      "10  Afghanistan      Asia   726.734055\n",
      "11  Afghanistan      Asia   974.580338\n",
      "12      Albania    Europe  1601.056136\n",
      "13      Albania    Europe  1942.284244\n"
     ]
    }
   ],
   "source": [
    "print(df.loc[10:13,['country','continent','gdpPercap']])"
   ]
  },
  {
   "cell_type": "code",
   "execution_count": 41,
   "metadata": {},
   "outputs": [
    {
     "name": "stdout",
     "output_type": "stream",
     "text": [
      "       country  year         pop continent  lifeExp   gdpPercap\n",
      "0  Afghanistan  1952   8425333.0      Asia   28.801  779.445314\n",
      "1  Afghanistan  1957   9240934.0      Asia   30.332  820.853030\n",
      "2  Afghanistan  1962  10267083.0      Asia   31.997  853.100710\n",
      "3  Afghanistan  1967  11537966.0      Asia   34.020  836.197138\n",
      "4  Afghanistan  1972  13079460.0      Asia   36.088  739.981106\n",
      "5  Afghanistan  1977  14880372.0      Asia   38.438  786.113360\n",
      "6  Afghanistan  1982  12881816.0      Asia   39.854  978.011439\n",
      "7  Afghanistan  1987  13867957.0      Asia   40.822  852.395945\n",
      "8  Afghanistan  1992  16317921.0      Asia   41.674  649.341395\n",
      "9  Afghanistan  1997  22227415.0      Asia   41.763  635.341351\n"
     ]
    }
   ],
   "source": [
    "print(df.head(n=10))"
   ]
  },
  {
   "cell_type": "markdown",
   "metadata": {},
   "source": [
    "# For each year in our data, what was the average life expectancy?\n",
    "## To answer this question,\n",
    "## we need to split our data into parts by year;\n",
    "## then we get the 'lifeExp' column and calculate the mean"
   ]
  },
  {
   "cell_type": "code",
   "execution_count": 42,
   "metadata": {},
   "outputs": [
    {
     "name": "stdout",
     "output_type": "stream",
     "text": [
      "country\n",
      "Afghanistan                   802.674598\n",
      "Albania                      3255.366633\n",
      "Algeria                      4426.025973\n",
      "Angola                       3607.100529\n",
      "Argentina                    8955.553783\n",
      "Australia                   19980.595634\n",
      "Austria                     20411.916279\n",
      "Bahrain                     18077.663945\n",
      "Bangladesh                    817.558818\n",
      "Belgium                     19900.758072\n",
      "Benin                        1155.395107\n",
      "Bolivia                      2961.228754\n",
      "Bosnia and Herzegovina       3484.779069\n",
      "Botswana                     5031.503557\n",
      "Brazil                       5829.316653\n",
      "Bulgaria                     6384.055172\n",
      "Burkina Faso                  843.990665\n",
      "Burundi                       471.662990\n",
      "Cambodia                      675.367824\n",
      "Cameroon                     1774.634222\n",
      "Canada                      22410.746340\n",
      "Central African Republic      958.784697\n",
      "Chad                         1165.453674\n",
      "Chile                        6703.289147\n",
      "China                        1488.307694\n",
      "Colombia                     4195.342920\n",
      "Comoros                      1314.380339\n",
      "Congo Dem. Rep.               648.342646\n",
      "Congo Rep.                   3312.788215\n",
      "Costa Rica                   5448.610779\n",
      "                                ...     \n",
      "Sierra Leone                 1072.819493\n",
      "Singapore                   17425.382267\n",
      "Slovak Republic             10415.530689\n",
      "Slovenia                    14074.582109\n",
      "Somalia                      1140.793252\n",
      "South Africa                 7247.431074\n",
      "Spain                       14029.826479\n",
      "Sri Lanka                    1854.731119\n",
      "Sudan                        1835.010430\n",
      "Swaziland                    3163.352358\n",
      "Sweden                      19943.126104\n",
      "Switzerland                 27074.334405\n",
      "Syria                        3009.287981\n",
      "Taiwan                      10224.807181\n",
      "Tanzania                      849.281271\n",
      "Thailand                     3045.966474\n",
      "Togo                         1153.820116\n",
      "Trinidad and Tobago          7866.871946\n",
      "Tunisia                      3477.210351\n",
      "Turkey                       4469.453380\n",
      "Uganda                        810.383788\n",
      "United Kingdom              19380.472986\n",
      "United States               26261.151347\n",
      "Uruguay                      7100.133176\n",
      "Venezuela                   10088.516252\n",
      "Vietnam                      1017.712615\n",
      "West Bank and Gaza           3759.996781\n",
      "Yemen Rep.                   1569.274672\n",
      "Zambia                       1358.199409\n",
      "Zimbabwe                      635.858042\n",
      "Name: gdpPercap, Length: 142, dtype: float64\n"
     ]
    }
   ],
   "source": [
    "print(df.groupby('country')['gdpPercap'].mean())"
   ]
  },
  {
   "cell_type": "code",
   "execution_count": null,
   "metadata": {},
   "outputs": [],
   "source": []
  }
 ],
 "metadata": {
  "kernelspec": {
   "display_name": "Python 3",
   "language": "python",
   "name": "python3"
  },
  "language_info": {
   "codemirror_mode": {
    "name": "ipython",
    "version": 3
   },
   "file_extension": ".py",
   "mimetype": "text/x-python",
   "name": "python",
   "nbconvert_exporter": "python",
   "pygments_lexer": "ipython3",
   "version": "3.7.3"
  }
 },
 "nbformat": 4,
 "nbformat_minor": 2
}
